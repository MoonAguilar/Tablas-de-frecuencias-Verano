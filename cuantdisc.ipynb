{
 "cells": [
  {
   "cell_type": "code",
   "execution_count": 1,
   "id": "3135aaf8",
   "metadata": {},
   "outputs": [],
   "source": [
    "# Importar bibliotecas\n",
    "import pandas as pd\n",
    "import numpy as np\n",
    "import matplotlib.pyplot as plt\n",
    "import seaborn as sns\n",
    "\n",
    "# Generar datos aleatorios\n",
    "np.random.seed(42)  # Para reproducibilidad\n",
    "data = np.random.randint(1, 101, size=500)  # 500 datos entre 1 y 100\n",
    "\n",
    "# Crear un DataFrame\n",
    "df = pd.DataFrame(data, columns=['Valores'])\n",
    "\n",
    "# Calcular frecuencias\n",
    "frecuencia_absoluta = df['Valores'].value_counts().sort_index()\n",
    "frecuencia_relativa = frecuencia_absoluta / frecuencia_absoluta.sum()\n",
    "frecuencia_acumulada = frecuencia_absoluta.cumsum()\n"
   ]
  },
  {
   "cell_type": "code",
   "execution_count": null,
   "id": "d0a512a9",
   "metadata": {},
   "outputs": [],
   "source": [
    "# Crear las gráficas\n",
    "\n",
    "# 1. Histograma de frecuencia absoluta\n",
    "plt.figure(figsize=(10, 6))\n",
    "plt.hist(df['Valores'], bins=20, alpha=0.7, color='blue', edgecolor='black')\n",
    "plt.title('Histograma de Frecuencia Absoluta')\n",
    "plt.xlabel('Valores')\n",
    "plt.ylabel('Frecuencia Absoluta')\n",
    "plt.grid(axis='y')\n",
    "plt.show()\n"
   ]
  },
  {
   "cell_type": "code",
   "execution_count": null,
   "id": "175828bc",
   "metadata": {},
   "outputs": [],
   "source": [
    "# 2. Diagrama de barras horizontales\n",
    "plt.figure(figsize=(10, 6))\n",
    "frecuencia_absoluta.plot(kind='barh', color='orange')\n",
    "plt.title('Diagrama de Barras de Frecuencia Absoluta')\n",
    "plt.xlabel('Frecuencia Absoluta')\n",
    "plt.ylabel('Valores')\n",
    "plt.show()\n"
   ]
  },
  {
   "cell_type": "code",
   "execution_count": null,
   "id": "eefaf1be",
   "metadata": {},
   "outputs": [],
   "source": [
    "# 3. Polígono de frecuencia relativa\n",
    "plt.figure(figsize=(10, 6))\n",
    "plt.plot(frecuencia_relativa.index, frecuencia_relativa.values, marker='o', color='green')\n",
    "plt.title('Polígono de Frecuencia Relativa')\n",
    "plt.xlabel('Valores')\n",
    "plt.ylabel('Frecuencia Relativa')\n",
    "plt.grid()\n",
    "plt.show()\n"
   ]
  },
  {
   "cell_type": "code",
   "execution_count": null,
   "id": "d43ffd24",
   "metadata": {},
   "outputs": [],
   "source": [
    "# 3. Polígono de frecuencia relativa\n",
    "plt.figure(figsize=(10, 6))\n",
    "plt.plot(frecuencia_relativa.index, frecuencia_relativa.values, marker='o', color='green')\n",
    "plt.title('Polígono de Frecuencia Relativa')\n",
    "plt.xlabel('Valores')\n",
    "plt.ylabel('Frecuencia Relativa')\n",
    "plt.grid()\n",
    "plt.show()\n"
   ]
  },
  {
   "cell_type": "code",
   "execution_count": null,
   "id": "abd27097",
   "metadata": {},
   "outputs": [],
   "source": [
    "# 5. Ojiva (frecuencia acumulada)\n",
    "plt.figure(figsize=(10, 6))\n",
    "plt.plot(frecuencia_acumulada.index, frecuencia_acumulada.values, marker='o', color='purple')\n",
    "plt.title('Ojiva (Frecuencia Acumulada)')\n",
    "plt.xlabel('Valores')\n",
    "plt.ylabel('Frecuencia Acumulada')\n",
    "plt.grid()\n",
    "plt.show()"
   ]
  }
 ],
 "metadata": {
  "kernelspec": {
   "display_name": "Python 3",
   "language": "python",
   "name": "python3"
  },
  "language_info": {
   "codemirror_mode": {
    "name": "ipython",
    "version": 3
   },
   "file_extension": ".py",
   "mimetype": "text/x-python",
   "name": "python",
   "nbconvert_exporter": "python",
   "pygments_lexer": "ipython3",
   "version": "3.13.2"
  }
 },
 "nbformat": 4,
 "nbformat_minor": 5
}
